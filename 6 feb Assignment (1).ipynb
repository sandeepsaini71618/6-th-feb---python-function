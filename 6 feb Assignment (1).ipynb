{
 "cells": [
  {
   "cell_type": "markdown",
   "id": "7c57b4b2-848a-4bc1-88bb-3e069745f74f",
   "metadata": {},
   "source": [
    "Create a function which will take a list as an argument and return the product of all the numbers\n",
    "after creating a flat list.\n",
    "\n",
    "Use the below-given list as an argument for your function.\n",
    "\n",
    "\n",
    "list1 = [1,2,3,4, [44,55,66, True], False, (34,56,78,89,34), {1,2,3,3,2,1}, {1:34, \"key2\": [55, 67, 78, 89], 4: (45,\n",
    "22, 61, 34)}, [56, 'data science'], 'Machine Learning']\n",
    "\n",
    "\n",
    "Note: you must extract numeric keys and values of the dictionary also."
   ]
  },
  {
   "cell_type": "code",
   "execution_count": 2,
   "id": "19dc4fe5-50d7-406e-bea2-c81a72ffcab3",
   "metadata": {},
   "outputs": [],
   "source": [
    "list1 = [1, 2, 3, 4, [44, 55, 66, True], False, (34, 56, 78, 89, 34), {1, 2, 3, 3, 2, 1},\n",
    "         {1: 34, \"key2\": [55, 67, 78, 89], 4: (45, 22, 61, 34)}, [56, 'data science'], 'Machine Learning']\n"
   ]
  },
  {
   "cell_type": "code",
   "execution_count": 5,
   "id": "daf4765e-3eed-45bb-beae-44e1f983e8f8",
   "metadata": {},
   "outputs": [
    {
     "name": "stdout",
     "output_type": "stream",
     "text": [
      "[1, 2, 3, 4, 44, 55, 66, True, False, 34, 56, 78, 89, 34, 1, 2, 3, 34, 55, 67, 78, 89, 45, 22, 61, 34, 56]\n",
      "Product: 0\n"
     ]
    }
   ],
   "source": [
    "def calculate_product(lst):\n",
    "    flat_list = []\n",
    "    \n",
    "    def extract_numbers(item):\n",
    "        if isinstance(item, (int, float)):\n",
    "            flat_list.append(item)\n",
    "        elif isinstance(item, dict):\n",
    "            for value in item.values():\n",
    "                extract_numbers(value)\n",
    "        elif isinstance(item, (list, tuple, set)):\n",
    "            for value in item:\n",
    "                extract_numbers(value)\n",
    "    \n",
    "    for element in lst:\n",
    "        extract_numbers(element)\n",
    "        \n",
    "    print(flat_list)\n",
    "    \n",
    "    product = 1\n",
    "    for number in flat_list:\n",
    "        product *= number\n",
    "    \n",
    "    return product\n",
    "\n",
    "\n",
    "result=calculate_product(list1)\n",
    "print(\"Product:\", result)\n"
   ]
  },
  {
   "cell_type": "markdown",
   "id": "829eb67f-c037-4f3c-8e27-89c26a248ac8",
   "metadata": {},
   "source": [
    "Write a python program for encrypting a message sent to you by your friend. The logic of encryption\n",
    "should be such that, for a the output should be z. For b, the output should be y. For c, the output should\n",
    "be x respectively. Also, the whitespace should be replaced with a dollar sign. Keep the punctuation\n",
    "marks unchanged.\n",
    "\n",
    "\n",
    "Input Sentence: I want to become a Data Scientist.\n",
    "\n",
    "\n",
    "Encrypt the above input sentence using the program you just created.\n",
    "\n",
    "\n",
    "Note: Convert the given input sentence into lowercase before encrypting. The final output should be\n",
    "lowercase.\n"
   ]
  },
  {
   "cell_type": "code",
   "execution_count": 12,
   "id": "94530a34-8484-4cf3-8643-879d60a5faf3",
   "metadata": {},
   "outputs": [
    {
     "name": "stdout",
     "output_type": "stream",
     "text": [
      "r$dzmg$gl$yvxlnv$z$wzgz$hxrvmgrhg.\n"
     ]
    }
   ],
   "source": [
    "def encrpt(message):\n",
    "\tencrpted_message=\"\"\n",
    "\tfor char in message.lower():\n",
    "\t\tif char.isalpha():\n",
    "\t\t\tencrpted_char=chr(ord(\"a\")+ord(\"z\")- ord(char))\n",
    "\t\telif char.isspace():\n",
    "\t\t\tencrpted_char=\"$\"\n",
    "\t\telse:\n",
    "\t\t\tencrpted_char=char\n",
    "\t\tencrpted_message+=encrpted_char\n",
    "\treturn encrpted_message\n",
    "\n",
    "input= \"I want to become a Data Scientist.\"\n",
    "\n",
    "encrpted_sentence=encrpt(input)\n",
    "print(encrpted_sentence)"
   ]
  },
  {
   "cell_type": "code",
   "execution_count": null,
   "id": "b5be1d52-ed93-4a0d-8751-b8b81c93bd7a",
   "metadata": {},
   "outputs": [],
   "source": []
  }
 ],
 "metadata": {
  "kernelspec": {
   "display_name": "Python 3 (ipykernel)",
   "language": "python",
   "name": "python3"
  },
  "language_info": {
   "codemirror_mode": {
    "name": "ipython",
    "version": 3
   },
   "file_extension": ".py",
   "mimetype": "text/x-python",
   "name": "python",
   "nbconvert_exporter": "python",
   "pygments_lexer": "ipython3",
   "version": "3.10.8"
  }
 },
 "nbformat": 4,
 "nbformat_minor": 5
}

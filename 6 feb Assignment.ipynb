{
 "cells": [
  {
   "cell_type": "markdown",
   "id": "7c57b4b2-848a-4bc1-88bb-3e069745f74f",
   "metadata": {},
   "source": [
    "Create a function which will take a list as an argument and return the product of all the numbers\n",
    "after creating a flat list.\n",
    "\n",
    "Use the below-given list as an argument for your function.\n",
    "\n",
    "\n",
    "list1 = [1,2,3,4, [44,55,66, True], False, (34,56,78,89,34), {1,2,3,3,2,1}, {1:34, \"key2\": [55, 67, 78, 89], 4: (45,\n",
    "22, 61, 34)}, [56, 'data science'], 'Machine Learning']\n",
    "\n",
    "\n",
    "Note: you must extract numeric keys and values of the dictionary also."
   ]
  },
  {
   "cell_type": "code",
   "execution_count": 2,
   "id": "19dc4fe5-50d7-406e-bea2-c81a72ffcab3",
   "metadata": {},
   "outputs": [],
   "source": [
    "list1 = [1, 2, 3, 4, [44, 55, 66, True], False, (34, 56, 78, 89, 34), {1, 2, 3, 3, 2, 1},\n",
    "         {1: 34, \"key2\": [55, 67, 78, 89], 4: (45, 22, 61, 34)}, [56, 'data science'], 'Machine Learning']\n"
   ]
  },
  {
   "cell_type": "code",
   "execution_count": 5,
   "id": "daf4765e-3eed-45bb-beae-44e1f983e8f8",
   "metadata": {},
   "outputs": [
    {
     "name": "stdout",
     "output_type": "stream",
     "text": [
      "[1, 2, 3, 4, 44, 55, 66, True, False, 34, 56, 78, 89, 34, 1, 2, 3, 34, 55, 67, 78, 89, 45, 22, 61, 34, 56]\n",
      "Product: 0\n"
     ]
    }
   ],
   "source": [
    "def calculate_product(lst):\n",
    "    flat_list = []\n",
    "    \n",
    "    def extract_numbers(item):\n",
    "        if isinstance(item, (int, float)):\n",
    "            flat_list.append(item)\n",
    "        elif isinstance(item, dict):\n",
    "            for value in item.values():\n",
    "                extract_numbers(value)\n",
    "        elif isinstance(item, (list, tuple, set)):\n",
    "            for value in item:\n",
    "                extract_numbers(value)\n",
    "    \n",
    "    for element in lst:\n",
    "        extract_numbers(element)\n",
    "        \n",
    "    print(flat_list)\n",
    "    \n",
    "    product = 1\n",
    "    for number in flat_list:\n",
    "        product *= number\n",
    "    \n",
    "    return product\n",
    "\n",
    "\n",
    "result=calculate_product(list1)\n",
    "print(\"Product:\", result)\n"
   ]
  },
  {
   "cell_type": "markdown",
   "id": "829eb67f-c037-4f3c-8e27-89c26a248ac8",
   "metadata": {},
   "source": [
    "Write a python program for encrypting a message sent to you by your friend. The logic of encryption\n",
    "should be such that, for a the output should be z. For b, the output should be y. For c, the output should\n",
    "be x respectively. Also, the whitespace should be replaced with a dollar sign. Keep the punctuation\n",
    "marks unchanged.\n",
    "\n",
    "\n",
    "Input Sentence: I want to become a Data Scientist.\n",
    "\n",
    "\n",
    "Encrypt the above input sentence using the program you just created.\n",
    "\n",
    "\n",
    "Note: Convert the given input sentence into lowercase before encrypting. The final output should be\n",
    "lowercase.\n"
   ]
  },
  {
   "cell_type": "code",
   "execution_count": 11,
   "id": "aa5a1d27-02a9-46e4-b822-26cfca30069b",
   "metadata": {},
   "outputs": [
    {
     "name": "stdout",
     "output_type": "stream",
     "text": [
      "r$dzmg$gl$yvxlnv$z$wzgz$hxrvmgrhg.\n"
     ]
    }
   ],
   "source": [
    "def encrypt_message(message):\n",
    "    encrypted_message = \"\"\n",
    "    for char in message.lower():\n",
    "        if char.isalpha():\n",
    "            encrypted_char = chr(ord('a') + (ord('z') - ord(char)))\n",
    "        elif char.isspace():\n",
    "            encrypted_char = \"$\"\n",
    "        else:\n",
    "            encrypted_char = char\n",
    "        encrypted_message += encrypted_char\n",
    "    return encrypted_message\n",
    "\n",
    "# Input sentence\n",
    "input_sentence = \"I want to become a Data Scientist.\"\n",
    "\n",
    "# Encrypt the input sentence\n",
    "encrypted_sentence = encrypt_message(input_sentence)\n",
    "\n",
    "print(encrypted_sentence)"
   ]
  },
  {
   "cell_type": "code",
   "execution_count": 6,
   "id": "061f55b0-0217-476a-ac00-e7ee09521ce2",
   "metadata": {},
   "outputs": [],
   "source": [
    "def encrpt(message):\n",
    "    encrpted_msg=\"\"\n",
    "    \n",
    "    for char in message.lower():\n",
    "        if char.isalpha():\n",
    "            encrpted_message=char(ord(\"a\")+ord(\"z\")-ord(char))\n",
    "        elif char.isspace():\n",
    "            encrpted_message=\"$\"\n",
    "            \n",
    "        else:\n",
    "            encrpted_message=char\n",
    "        encrpted_msg+=encrpted_msg\n",
    "    return encrpted_msg\n",
    "            "
   ]
  },
  {
   "cell_type": "code",
   "execution_count": 7,
   "id": "d9cd3c17-4c90-4942-827f-48041820eac1",
   "metadata": {},
   "outputs": [],
   "source": [
    "input_sentence = \"I want to become a Data Scientist.\""
   ]
  },
  {
   "cell_type": "code",
   "execution_count": 10,
   "id": "182c6e91-6f50-456b-bf5c-7ec6a612518e",
   "metadata": {},
   "outputs": [
    {
     "ename": "TypeError",
     "evalue": "'str' object is not callable",
     "output_type": "error",
     "traceback": [
      "\u001b[0;31m---------------------------------------------------------------------------\u001b[0m",
      "\u001b[0;31mTypeError\u001b[0m                                 Traceback (most recent call last)",
      "Cell \u001b[0;32mIn[10], line 1\u001b[0m\n\u001b[0;32m----> 1\u001b[0m encrypted_sentence \u001b[38;5;241m=\u001b[39m \u001b[43mencrpt\u001b[49m\u001b[43m(\u001b[49m\u001b[43minput_sentence\u001b[49m\u001b[43m)\u001b[49m\n\u001b[1;32m      3\u001b[0m \u001b[38;5;28mprint\u001b[39m(encrypted_sentence)\n",
      "Cell \u001b[0;32mIn[6], line 6\u001b[0m, in \u001b[0;36mencrpt\u001b[0;34m(message)\u001b[0m\n\u001b[1;32m      4\u001b[0m \u001b[38;5;28;01mfor\u001b[39;00m char \u001b[38;5;129;01min\u001b[39;00m message\u001b[38;5;241m.\u001b[39mlower():\n\u001b[1;32m      5\u001b[0m     \u001b[38;5;28;01mif\u001b[39;00m char\u001b[38;5;241m.\u001b[39misalpha():\n\u001b[0;32m----> 6\u001b[0m         encrpted_message\u001b[38;5;241m=\u001b[39m\u001b[43mchar\u001b[49m\u001b[43m(\u001b[49m\u001b[38;5;28;43mord\u001b[39;49m\u001b[43m(\u001b[49m\u001b[38;5;124;43m\"\u001b[39;49m\u001b[38;5;124;43ma\u001b[39;49m\u001b[38;5;124;43m\"\u001b[39;49m\u001b[43m)\u001b[49m\u001b[38;5;241;43m+\u001b[39;49m\u001b[38;5;28;43mord\u001b[39;49m\u001b[43m(\u001b[49m\u001b[38;5;124;43m\"\u001b[39;49m\u001b[38;5;124;43mz\u001b[39;49m\u001b[38;5;124;43m\"\u001b[39;49m\u001b[43m)\u001b[49m\u001b[38;5;241;43m-\u001b[39;49m\u001b[38;5;28;43mord\u001b[39;49m\u001b[43m(\u001b[49m\u001b[43mchar\u001b[49m\u001b[43m)\u001b[49m\u001b[43m)\u001b[49m\n\u001b[1;32m      7\u001b[0m     \u001b[38;5;28;01melif\u001b[39;00m char\u001b[38;5;241m.\u001b[39misspace():\n\u001b[1;32m      8\u001b[0m         encrpted_message\u001b[38;5;241m=\u001b[39m\u001b[38;5;124m\"\u001b[39m\u001b[38;5;124m$\u001b[39m\u001b[38;5;124m\"\u001b[39m\n",
      "\u001b[0;31mTypeError\u001b[0m: 'str' object is not callable"
     ]
    }
   ],
   "source": [
    "encrypted_sentence = encrpt(input_sentence)\n",
    "\n",
    "print(encrypted_sentence)"
   ]
  },
  {
   "cell_type": "code",
   "execution_count": null,
   "id": "94530a34-8484-4cf3-8643-879d60a5faf3",
   "metadata": {},
   "outputs": [],
   "source": []
  }
 ],
 "metadata": {
  "kernelspec": {
   "display_name": "Python 3 (ipykernel)",
   "language": "python",
   "name": "python3"
  },
  "language_info": {
   "codemirror_mode": {
    "name": "ipython",
    "version": 3
   },
   "file_extension": ".py",
   "mimetype": "text/x-python",
   "name": "python",
   "nbconvert_exporter": "python",
   "pygments_lexer": "ipython3",
   "version": "3.10.8"
  }
 },
 "nbformat": 4,
 "nbformat_minor": 5
}
